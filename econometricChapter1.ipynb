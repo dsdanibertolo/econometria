{
 "cells": [
  {
   "cell_type": "code",
   "execution_count": 1,
   "metadata": {},
   "outputs": [
    {
     "name": "stdout",
     "output_type": "stream",
     "text": [
      "Requirement already satisfied: openpyxl in c:\\programdata\\anaconda3\\lib\\site-packages (2.6.1)\n",
      "Requirement already satisfied: jdcal in c:\\programdata\\anaconda3\\lib\\site-packages (from openpyxl) (1.4)\n",
      "Requirement already satisfied: et-xmlfile in c:\\programdata\\anaconda3\\lib\\site-packages (from openpyxl) (1.0.1)\n"
     ]
    }
   ],
   "source": [
    "!pip install openpyxl"
   ]
  },
  {
   "cell_type": "code",
   "execution_count": 2,
   "metadata": {},
   "outputs": [],
   "source": [
    "import openpyxl\n",
    "import numpy as np\n",
    "import statsmodels.api as sm\n",
    "import statsmodels.formula.api as smf\n",
    "import pandas as pd"
   ]
  },
  {
   "cell_type": "code",
   "execution_count": 3,
   "metadata": {},
   "outputs": [],
   "source": [
    "estm1 = pd.read_csv(\"DeMoedaDriveDani.csv\")"
   ]
  },
  {
   "cell_type": "code",
   "execution_count": 4,
   "metadata": {},
   "outputs": [
    {
     "data": {
      "text/html": [
       "<div>\n",
       "<style scoped>\n",
       "    .dataframe tbody tr th:only-of-type {\n",
       "        vertical-align: middle;\n",
       "    }\n",
       "\n",
       "    .dataframe tbody tr th {\n",
       "        vertical-align: top;\n",
       "    }\n",
       "\n",
       "    .dataframe thead th {\n",
       "        text-align: right;\n",
       "    }\n",
       "</style>\n",
       "<table border=\"1\" class=\"dataframe\">\n",
       "  <thead>\n",
       "    <tr style=\"text-align: right;\">\n",
       "      <th></th>\n",
       "      <th>obs</th>\n",
       "      <th>M1</th>\n",
       "      <th>Y</th>\n",
       "      <th>PI</th>\n",
       "      <th>R</th>\n",
       "    </tr>\n",
       "  </thead>\n",
       "  <tbody>\n",
       "    <tr>\n",
       "      <th>0</th>\n",
       "      <td>1966Q1</td>\n",
       "      <td>44.472</td>\n",
       "      <td>38.098</td>\n",
       "      <td>1.120</td>\n",
       "      <td>29.0</td>\n",
       "    </tr>\n",
       "    <tr>\n",
       "      <th>1</th>\n",
       "      <td>1966Q2</td>\n",
       "      <td>41.890</td>\n",
       "      <td>39.948</td>\n",
       "      <td>1.098</td>\n",
       "      <td>29.3</td>\n",
       "    </tr>\n",
       "    <tr>\n",
       "      <th>2</th>\n",
       "      <td>1966Q3</td>\n",
       "      <td>40.606</td>\n",
       "      <td>41.118</td>\n",
       "      <td>1.077</td>\n",
       "      <td>33.1</td>\n",
       "    </tr>\n",
       "    <tr>\n",
       "      <th>3</th>\n",
       "      <td>1966Q4</td>\n",
       "      <td>40.971</td>\n",
       "      <td>39.802</td>\n",
       "      <td>1.054</td>\n",
       "      <td>31.4</td>\n",
       "    </tr>\n",
       "    <tr>\n",
       "      <th>4</th>\n",
       "      <td>1967Q1</td>\n",
       "      <td>40.753</td>\n",
       "      <td>37.205</td>\n",
       "      <td>1.076</td>\n",
       "      <td>34.2</td>\n",
       "    </tr>\n",
       "  </tbody>\n",
       "</table>\n",
       "</div>"
      ],
      "text/plain": [
       "      obs      M1       Y     PI     R\n",
       "0  1966Q1  44.472  38.098  1.120  29.0\n",
       "1  1966Q2  41.890  39.948  1.098  29.3\n",
       "2  1966Q3  40.606  41.118  1.077  33.1\n",
       "3  1966Q4  40.971  39.802  1.054  31.4\n",
       "4  1967Q1  40.753  37.205  1.076  34.2"
      ]
     },
     "execution_count": 4,
     "metadata": {},
     "output_type": "execute_result"
    }
   ],
   "source": [
    "estm1.head(5)"
   ]
  },
  {
   "cell_type": "code",
   "execution_count": 5,
   "metadata": {},
   "outputs": [],
   "source": [
    "estim = smf.ols('np.log(M1)~ np.log(Y)+ np.log(PI) + np.log(R)',data = estm1).fit()"
   ]
  },
  {
   "cell_type": "code",
   "execution_count": 6,
   "metadata": {},
   "outputs": [
    {
     "name": "stdout",
     "output_type": "stream",
     "text": [
      "                            OLS Regression Results                            \n",
      "==============================================================================\n",
      "Dep. Variable:             np.log(M1)   R-squared:                       0.954\n",
      "Model:                            OLS   Adj. R-squared:                  0.952\n",
      "Method:                 Least Squares   F-statistic:                     519.8\n",
      "Date:                Tue, 08 Dec 2020   Prob (F-statistic):           1.55e-50\n",
      "Time:                        21:32:12   Log-Likelihood:                 90.407\n",
      "No. Observations:                  80   AIC:                            -172.8\n",
      "Df Residuals:                      76   BIC:                            -163.3\n",
      "Df Model:                           3                                         \n",
      "Covariance Type:            nonrobust                                         \n",
      "==============================================================================\n",
      "                 coef    std err          t      P>|t|      [0.025      0.975]\n",
      "------------------------------------------------------------------------------\n",
      "Intercept      2.0214      0.158     12.826      0.000       1.707       2.335\n",
      "np.log(Y)      0.9555      0.030     31.963      0.000       0.896       1.015\n",
      "np.log(PI)    -0.8423      0.323     -2.610      0.011      -1.485      -0.200\n",
      "np.log(R)     -0.4969      0.034    -14.545      0.000      -0.565      -0.429\n",
      "==============================================================================\n",
      "Omnibus:                        5.221   Durbin-Watson:                   1.040\n",
      "Prob(Omnibus):                  0.073   Jarque-Bera (JB):                5.247\n",
      "Skew:                          -0.596   Prob(JB):                       0.0725\n",
      "Kurtosis:                       2.608   Cond. No.                         234.\n",
      "==============================================================================\n",
      "\n",
      "Warnings:\n",
      "[1] Standard Errors assume that the covariance matrix of the errors is correctly specified.\n"
     ]
    }
   ],
   "source": [
    "print(estim.summary())"
   ]
  },
  {
   "cell_type": "markdown",
   "metadata": {},
   "source": [
    "### Na análise dos p-valores do F-Statistics e dos testes T são rejeitadas as hipóteses nulas por serem menores que a significância.\n",
    "\n",
    "### As mesma estimação também pode ser obtida no e-views com a seguinte equação: log(m1) c log(y) log(r) log(pi) que é equivalente à equação 'np.log(M1)~ np.log(Y)+ np.log(PI) + np.log(R)' usada no stasmodels.\n",
    "\n",
    "### Abaixo mostro a mesma estimação feita no e-views com a equação acima, para quem não conhece este software, observe a semelhança do layout dos resultados com o statsmodels e o R\n",
    "\n",
    "![tabela1](tab1.1.PNG)"
   ]
  },
  {
   "cell_type": "markdown",
   "metadata": {},
   "source": []
  },
  {
   "cell_type": "code",
   "execution_count": 7,
   "metadata": {},
   "outputs": [],
   "source": [
    "estm1['DUMMYDIF'] = estm1['obs'].apply(lambda x: 0 if pd.Period(x) < pd.Period('1985Q4') else 1)"
   ]
  },
  {
   "cell_type": "code",
   "execution_count": 8,
   "metadata": {},
   "outputs": [
    {
     "data": {
      "text/html": [
       "<div>\n",
       "<style scoped>\n",
       "    .dataframe tbody tr th:only-of-type {\n",
       "        vertical-align: middle;\n",
       "    }\n",
       "\n",
       "    .dataframe tbody tr th {\n",
       "        vertical-align: top;\n",
       "    }\n",
       "\n",
       "    .dataframe thead th {\n",
       "        text-align: right;\n",
       "    }\n",
       "</style>\n",
       "<table border=\"1\" class=\"dataframe\">\n",
       "  <thead>\n",
       "    <tr style=\"text-align: right;\">\n",
       "      <th></th>\n",
       "      <th>obs</th>\n",
       "      <th>M1</th>\n",
       "      <th>Y</th>\n",
       "      <th>PI</th>\n",
       "      <th>R</th>\n",
       "      <th>DUMMYDIF</th>\n",
       "    </tr>\n",
       "  </thead>\n",
       "  <tbody>\n",
       "    <tr>\n",
       "      <th>75</th>\n",
       "      <td>1984Q4</td>\n",
       "      <td>35.823</td>\n",
       "      <td>128.161</td>\n",
       "      <td>1.370</td>\n",
       "      <td>349.4</td>\n",
       "      <td>0</td>\n",
       "    </tr>\n",
       "    <tr>\n",
       "      <th>76</th>\n",
       "      <td>1985Q1</td>\n",
       "      <td>32.339</td>\n",
       "      <td>121.971</td>\n",
       "      <td>1.380</td>\n",
       "      <td>372.2</td>\n",
       "      <td>0</td>\n",
       "    </tr>\n",
       "    <tr>\n",
       "      <th>77</th>\n",
       "      <td>1985Q2</td>\n",
       "      <td>34.381</td>\n",
       "      <td>136.722</td>\n",
       "      <td>1.290</td>\n",
       "      <td>289.2</td>\n",
       "      <td>0</td>\n",
       "    </tr>\n",
       "    <tr>\n",
       "      <th>78</th>\n",
       "      <td>1985Q3</td>\n",
       "      <td>40.406</td>\n",
       "      <td>145.049</td>\n",
       "      <td>1.322</td>\n",
       "      <td>192.6</td>\n",
       "      <td>0</td>\n",
       "    </tr>\n",
       "    <tr>\n",
       "      <th>79</th>\n",
       "      <td>1985Q4</td>\n",
       "      <td>45.268</td>\n",
       "      <td>143.876</td>\n",
       "      <td>1.383</td>\n",
       "      <td>262.1</td>\n",
       "      <td>1</td>\n",
       "    </tr>\n",
       "  </tbody>\n",
       "</table>\n",
       "</div>"
      ],
      "text/plain": [
       "       obs      M1        Y     PI      R  DUMMYDIF\n",
       "75  1984Q4  35.823  128.161  1.370  349.4         0\n",
       "76  1985Q1  32.339  121.971  1.380  372.2         0\n",
       "77  1985Q2  34.381  136.722  1.290  289.2         0\n",
       "78  1985Q3  40.406  145.049  1.322  192.6         0\n",
       "79  1985Q4  45.268  143.876  1.383  262.1         1"
      ]
     },
     "execution_count": 8,
     "metadata": {},
     "output_type": "execute_result"
    }
   ],
   "source": [
    "estm1.tail()"
   ]
  },
  {
   "cell_type": "code",
   "execution_count": null,
   "metadata": {},
   "outputs": [],
   "source": []
  },
  {
   "cell_type": "code",
   "execution_count": 9,
   "metadata": {},
   "outputs": [],
   "source": [
    "estimDummy = smf.ols('np.log(M1)~ np.log(Y)+ np.log(PI) + np.log(R) + DUMMYDIF',data = estm1).fit()"
   ]
  },
  {
   "cell_type": "code",
   "execution_count": 10,
   "metadata": {},
   "outputs": [
    {
     "name": "stdout",
     "output_type": "stream",
     "text": [
      "                            OLS Regression Results                            \n",
      "==============================================================================\n",
      "Dep. Variable:             np.log(M1)   R-squared:                       0.954\n",
      "Model:                            OLS   Adj. R-squared:                  0.952\n",
      "Method:                 Least Squares   F-statistic:                     391.2\n",
      "Date:                Tue, 08 Dec 2020   Prob (F-statistic):           2.13e-49\n",
      "Time:                        21:32:13   Log-Likelihood:                 91.043\n",
      "No. Observations:                  80   AIC:                            -172.1\n",
      "Df Residuals:                      75   BIC:                            -160.2\n",
      "Df Model:                           4                                         \n",
      "Covariance Type:            nonrobust                                         \n",
      "==============================================================================\n",
      "                 coef    std err          t      P>|t|      [0.025      0.975]\n",
      "------------------------------------------------------------------------------\n",
      "Intercept      2.0136      0.158     12.780      0.000       1.700       2.327\n",
      "np.log(Y)      0.9572      0.030     32.018      0.000       0.898       1.017\n",
      "np.log(PI)    -0.8897      0.325     -2.736      0.008      -1.537      -0.242\n",
      "np.log(R)     -0.4957      0.034    -14.523      0.000      -0.564      -0.428\n",
      "DUMMYDIF       0.0919      0.084      1.096      0.277      -0.075       0.259\n",
      "==============================================================================\n",
      "Omnibus:                        4.833   Durbin-Watson:                   0.961\n",
      "Prob(Omnibus):                  0.089   Jarque-Bera (JB):                4.738\n",
      "Skew:                          -0.551   Prob(JB):                       0.0936\n",
      "Kurtosis:                       2.544   Cond. No.                         236.\n",
      "==============================================================================\n",
      "\n",
      "Warnings:\n",
      "[1] Standard Errors assume that the covariance matrix of the errors is correctly specified.\n"
     ]
    }
   ],
   "source": [
    "print(estimDummy.summary())"
   ]
  },
  {
   "cell_type": "markdown",
   "metadata": {},
   "source": [
    "### Abaixo também temos a mesma estimação feita com e-views:\n",
    "![tab2](tab1.2.PNG)\n",
    "\n",
    "### A equação equivalente no e-views é a seguinte: log(m1) c log(Y) log(R) log(PI) DUMMYDIF com método Least Squares (MQO). Contudo, diferente do statsmodels, onde eu inseri uma nova coluna e usei uma função lambda para inserção da coluna DUMMYDIF na estimação, no e-views esta nova coluna é aplicada na janela de comando com o seguinte código: series dummydif = @recode(@date<@dateval(\"1985q4\"),0,1)\n",
    "\n",
    "\n",
    "#### Mas por quê inserir uma variável dummy?\n",
    "#### Neste caso para confirmar que uma variável dummy, mesmo que em somente uma observação força a regressão a passar por ela.\n",
    "#### Num estudo sócio-econômico por exemplo, ela nos ajuda a perceber o padrão de vida das famílias, como por exemplo: tem geladeira? Tem carro? Tem internet? Tem água encanada? Se sim a dummy é 1, se não a dummy é 0.\n",
    " "
   ]
  },
  {
   "cell_type": "code",
   "execution_count": 11,
   "metadata": {},
   "outputs": [],
   "source": [
    "estim79obs = smf.ols('np.log(M1)~ np.log(Y)+ np.log(PI) + np.log(R)',data = estm1.iloc[:-1]).fit()\n",
    "# a mesma estimação excluindo apenas a última observação(1985Q3)"
   ]
  },
  {
   "cell_type": "code",
   "execution_count": 12,
   "metadata": {},
   "outputs": [
    {
     "name": "stdout",
     "output_type": "stream",
     "text": [
      "                            OLS Regression Results                            \n",
      "==============================================================================\n",
      "Dep. Variable:             np.log(M1)   R-squared:                       0.954\n",
      "Model:                            OLS   Adj. R-squared:                  0.952\n",
      "Method:                 Least Squares   F-statistic:                     513.5\n",
      "Date:                Tue, 08 Dec 2020   Prob (F-statistic):           6.89e-50\n",
      "Time:                        21:32:13   Log-Likelihood:                 89.408\n",
      "No. Observations:                  79   AIC:                            -170.8\n",
      "Df Residuals:                      75   BIC:                            -161.3\n",
      "Df Model:                           3                                         \n",
      "Covariance Type:            nonrobust                                         \n",
      "==============================================================================\n",
      "                 coef    std err          t      P>|t|      [0.025      0.975]\n",
      "------------------------------------------------------------------------------\n",
      "Intercept      2.0136      0.158     12.780      0.000       1.700       2.327\n",
      "np.log(Y)      0.9572      0.030     32.018      0.000       0.898       1.017\n",
      "np.log(PI)    -0.8897      0.325     -2.736      0.008      -1.537      -0.242\n",
      "np.log(R)     -0.4957      0.034    -14.523      0.000      -0.564      -0.428\n",
      "==============================================================================\n",
      "Omnibus:                        4.888   Durbin-Watson:                   0.858\n",
      "Prob(Omnibus):                  0.087   Jarque-Bera (JB):                4.728\n",
      "Skew:                          -0.547   Prob(JB):                       0.0941\n",
      "Kurtosis:                       2.512   Cond. No.                         233.\n",
      "==============================================================================\n",
      "\n",
      "Warnings:\n",
      "[1] Standard Errors assume that the covariance matrix of the errors is correctly specified.\n"
     ]
    }
   ],
   "source": [
    "print(estim79obs.summary())"
   ]
  },
  {
   "cell_type": "markdown",
   "metadata": {},
   "source": [
    "### Da mesma forma a estimação acima também realizada no e-views:\n",
    "![tab3](tab1.3.PNG)\n",
    "\n",
    "aqui foi usada a mesma equação da tabela 1, porém, no e-views para se excluir a última linha fui na janela \n",
    "\"sample\" do software e troquei 1985Q4 por 1985Q3\n",
    "\n",
    "É importante observar que aqui na tabela 1.3, quando retiramos a última observação, os regressores permanecem iguais em seus valores da mesma forma que quando colocamos a variável dummy apenas na última observação como na tabela 1.2. Chega a ser desprezível as alterações que ocorrem nos valores dos coeficientes de determinação e das probabilidades de dos testes F e T. Não alterando os "
   ]
  },
  {
   "cell_type": "code",
   "execution_count": null,
   "metadata": {},
   "outputs": [],
   "source": []
  },
  {
   "cell_type": "markdown",
   "metadata": {},
   "source": [
    "### Também com uso do E-views, abaixo a estimação do modelo não linear nas variáveis. Em outras palavras, sem o uso de log.\n",
    "### Desta forma não temos a elasticidade, mas sim o impacto direto na variável dependente da variação de cada estimador.\n",
    "### Embora seja visto a mudança nos números, a conclusão da estimação e explicação do modelo permanecem as mesmas.\n",
    "\n",
    "![tab4](LinearNosParametrosLeastSquares.PNG)"
   ]
  },
  {
   "cell_type": "code",
   "execution_count": null,
   "metadata": {},
   "outputs": [],
   "source": []
  }
 ],
 "metadata": {
  "kernelspec": {
   "display_name": "Python 3",
   "language": "python",
   "name": "python3"
  },
  "language_info": {
   "codemirror_mode": {
    "name": "ipython",
    "version": 3
   },
   "file_extension": ".py",
   "mimetype": "text/x-python",
   "name": "python",
   "nbconvert_exporter": "python",
   "pygments_lexer": "ipython3",
   "version": "3.7.3"
  }
 },
 "nbformat": 4,
 "nbformat_minor": 2
}
