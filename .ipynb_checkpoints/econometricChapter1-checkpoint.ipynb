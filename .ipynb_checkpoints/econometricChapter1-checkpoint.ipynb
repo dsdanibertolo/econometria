{
 "cells": [
  {
   "cell_type": "code",
   "execution_count": 1,
   "metadata": {},
   "outputs": [
    {
     "name": "stdout",
     "output_type": "stream",
     "text": [
      "Requirement already satisfied: openpyxl in c:\\programdata\\anaconda3\\lib\\site-packages (2.6.1)\n",
      "Requirement already satisfied: et-xmlfile in c:\\programdata\\anaconda3\\lib\\site-packages (from openpyxl) (1.0.1)\n",
      "Requirement already satisfied: jdcal in c:\\programdata\\anaconda3\\lib\\site-packages (from openpyxl) (1.4)\n"
     ]
    }
   ],
   "source": [
    "!pip install openpyxl"
   ]
  },
  {
   "cell_type": "code",
   "execution_count": 1,
   "metadata": {},
   "outputs": [],
   "source": [
    "import openpyxl\n",
    "import numpy as np\n",
    "import statsmodels.api as sm\n",
    "import statsmodels.formula.api as smf\n",
    "import pandas as pd"
   ]
  },
  {
   "cell_type": "code",
   "execution_count": 22,
   "metadata": {},
   "outputs": [],
   "source": [
    "estm1 = pd.read_csv(\"DeMoedaDriveDani.csv\")"
   ]
  },
  {
   "cell_type": "code",
   "execution_count": 23,
   "metadata": {},
   "outputs": [],
   "source": [
    "estim = smf.ols('np.log(M1)~ np.log(Y)+ np.log(PI) + np.log(R)',data = estm1).fit()"
   ]
  },
  {
   "cell_type": "code",
   "execution_count": 24,
   "metadata": {},
   "outputs": [
    {
     "name": "stdout",
     "output_type": "stream",
     "text": [
      "                            OLS Regression Results                            \n",
      "==============================================================================\n",
      "Dep. Variable:             np.log(M1)   R-squared:                       0.954\n",
      "Model:                            OLS   Adj. R-squared:                  0.952\n",
      "Method:                 Least Squares   F-statistic:                     519.8\n",
      "Date:                Sat, 17 Oct 2020   Prob (F-statistic):           1.55e-50\n",
      "Time:                        22:50:27   Log-Likelihood:                 90.407\n",
      "No. Observations:                  80   AIC:                            -172.8\n",
      "Df Residuals:                      76   BIC:                            -163.3\n",
      "Df Model:                           3                                         \n",
      "Covariance Type:            nonrobust                                         \n",
      "==============================================================================\n",
      "                 coef    std err          t      P>|t|      [0.025      0.975]\n",
      "------------------------------------------------------------------------------\n",
      "Intercept      2.0214      0.158     12.826      0.000       1.707       2.335\n",
      "np.log(Y)      0.9555      0.030     31.963      0.000       0.896       1.015\n",
      "np.log(PI)    -0.8423      0.323     -2.610      0.011      -1.485      -0.200\n",
      "np.log(R)     -0.4969      0.034    -14.545      0.000      -0.565      -0.429\n",
      "==============================================================================\n",
      "Omnibus:                        5.221   Durbin-Watson:                   1.040\n",
      "Prob(Omnibus):                  0.073   Jarque-Bera (JB):                5.247\n",
      "Skew:                          -0.596   Prob(JB):                       0.0725\n",
      "Kurtosis:                       2.608   Cond. No.                         234.\n",
      "==============================================================================\n",
      "\n",
      "Warnings:\n",
      "[1] Standard Errors assume that the covariance matrix of the errors is correctly specified.\n"
     ]
    }
   ],
   "source": [
    "print(estim.summary())"
   ]
  },
  {
   "cell_type": "code",
   "execution_count": null,
   "metadata": {},
   "outputs": [],
   "source": []
  }
 ],
 "metadata": {
  "kernelspec": {
   "display_name": "Python 3",
   "language": "python",
   "name": "python3"
  },
  "language_info": {
   "codemirror_mode": {
    "name": "ipython",
    "version": 3
   },
   "file_extension": ".py",
   "mimetype": "text/x-python",
   "name": "python",
   "nbconvert_exporter": "python",
   "pygments_lexer": "ipython3",
   "version": "3.7.3"
  }
 },
 "nbformat": 4,
 "nbformat_minor": 2
}
