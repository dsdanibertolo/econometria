{
 "cells": [
  {
   "cell_type": "markdown",
   "metadata": {},
   "source": [
    "#                              Econometric Chapter 2 - \n",
    "##                      Teste de Especificação Ramsey Reset test"
   ]
  },
  {
   "cell_type": "code",
   "execution_count": 2,
   "metadata": {},
   "outputs": [],
   "source": [
    "import openpyxl\n",
    "import numpy as np\n",
    "import statsmodels.api as sm\n",
    "import statsmodels.formula.api as smf\n",
    "import pandas as pd"
   ]
  },
  {
   "cell_type": "code",
   "execution_count": 3,
   "metadata": {},
   "outputs": [],
   "source": [
    "estm1 = pd.read_csv(\"DeMoedaDriveDani.csv\")"
   ]
  },
  {
   "cell_type": "markdown",
   "metadata": {},
   "source": [
    "### Neste notebook a estimação foi feita diretamente no E-Views, isto porque no teste aqui realizado que é um este de especificação de modelo (Ramsey Reset Test) até no momento da estimação não foi encontrado a sintaxe equivalente na bilioteca stastmodels do Python \n",
    "\n",
    "### Este teste verifica se há subespecificação do modelo e Forma Funcional incorreta . Se a hipótese nula for rejeitada não há erro de especificação do modelo. \n",
    "\n",
    "### A ideia deste teste é que se a forma funcional do modelo estiver incorreta então o uso da variável dependente ajustada elevada ao quadrado (ou ainda ao cubo) como regressor adicional permitiria melhorar de modo significativo o ajustamento do modelo, isto porque a variável dependente ajustada ao quadrado por conter o quadrado dos outros regressores bem como o produto cruzado entre esses outros regressores estaria na verdade incorporando ao modelo as relações não lineares que foram indevidademente omitidas.\n",
    "\n",
    "### Argumento semelhante poderia ser usado para omissão de variável relevante (heterocedasticidade). Neste caso as variáveis indevidamente omitidas estariam correlacionadas com as inclusas no modelo e parte desta correlação seria captada pela adição de termos  y^2 e y^3, que nas estimações abaixo são representadas pelos itens FITTED^2 e FITTED^3\n"
   ]
  },
  {
   "cell_type": "markdown",
   "metadata": {},
   "source": [
    "### No teste abaixo foi aplicado o teste Reset para a demanda por moeda para verificar se existe erro de especificação quando se usa a forma logarítmica das variáveis. No caso acima o teste F deu 1,07, que só é significativo a 0,35, ou seja o modelo com as variáveis em logarítmo não possui erro de especificação."
   ]
  },
  {
   "cell_type": "markdown",
   "metadata": {},
   "source": [
    "![tabela1](RamseyResetTest2.1.PNG)"
   ]
  },
  {
   "cell_type": "markdown",
   "metadata": {},
   "source": [
    "### No teste abaixo, realizado com as variáveis em nível ao invés da forma logarítimica o teste Reset o teste F deu 18,86 o que é altamente significativo, indicando claramente um erro de especificação, logo não rejeitamos um erro de especificação no uso do modelo linear com variáveis em nível. "
   ]
  },
  {
   "cell_type": "markdown",
   "metadata": {},
   "source": [
    "![tabela1](RamseyResetTest2.2.PNG)"
   ]
  },
  {
   "cell_type": "code",
   "execution_count": null,
   "metadata": {},
   "outputs": [],
   "source": []
  },
  {
   "cell_type": "code",
   "execution_count": null,
   "metadata": {},
   "outputs": [],
   "source": []
  }
 ],
 "metadata": {
  "kernelspec": {
   "display_name": "Python 3",
   "language": "python",
   "name": "python3"
  },
  "language_info": {
   "codemirror_mode": {
    "name": "ipython",
    "version": 3
   },
   "file_extension": ".py",
   "mimetype": "text/x-python",
   "name": "python",
   "nbconvert_exporter": "python",
   "pygments_lexer": "ipython3",
   "version": "3.7.3"
  }
 },
 "nbformat": 4,
 "nbformat_minor": 2
}
